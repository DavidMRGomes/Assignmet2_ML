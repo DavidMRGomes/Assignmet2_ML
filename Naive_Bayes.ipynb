{
 "cells": [
  {
   "cell_type": "markdown",
   "metadata": {},
   "source": [
    "# Naive Bayes Implementation"
   ]
  },
  {
   "cell_type": "markdown",
   "metadata": {},
   "source": [
    "The main ideia of this code is to implement the Naive Bayes algorithm. Since only images are given, it is used a pretrained googlenet with the last layer removed (replaced by the identity matrix). The last layer corresponds to the layer that performs classification. The features extracted from the google net are the ones going into the Naive Bayes algorithm.\n",
    "\n",
    "In this case, the underlying distribution of the data (likelihood) was chosen to be gaussian, the prior is computed based on the ammount of samples for each class. Finally, with the Bayes Theorem the posterior can be computed and decisions can be made based on it."
   ]
  },
  {
   "cell_type": "markdown",
   "metadata": {},
   "source": [
    "Dependencies"
   ]
  },
  {
   "cell_type": "code",
   "execution_count": 1,
   "metadata": {},
   "outputs": [
    {
     "name": "stdout",
     "output_type": "stream",
     "text": [
      "Device being used : cuda:0\n"
     ]
    }
   ],
   "source": [
    "import numpy as np\n",
    "import pandas as pd\n",
    "\n",
    "import os\n",
    "#import random\n",
    "#from operator import itemgetter\n",
    "import copy\n",
    "import time\n",
    "from datetime import datetime\n",
    "\n",
    "import torch\n",
    "import torchvision\n",
    "import torchvision.transforms as transforms\n",
    "from torchvision.datasets import ImageFolder\n",
    "from torch.utils.data import DataLoader, Dataset, ConcatDataset\n",
    "import torch.nn as nn\n",
    "import torchvision.models as models\n",
    "from torchvision.utils import make_grid\n",
    "import torch.nn.functional as F\n",
    "\n",
    "#from mlxtend.plotting import plot_confusion_matrix\n",
    "from sklearn.metrics import confusion_matrix, classification_report, accuracy_score\n",
    "\n",
    "import matplotlib.pyplot as plt\n",
    "import matplotlib.image as mpimg\n",
    "from matplotlib.image import imread\n",
    "#import seaborn as sns\n",
    "\n",
    "from sklearn.model_selection import train_test_split\n",
    "from sklearn.naive_bayes import GaussianNB\n",
    "\n",
    "from PIL import Image\n",
    "\n",
    "import glob\n",
    "\n",
    "from tqdm import tqdm\n",
    "\n",
    "import seaborn as sns\n",
    "\n",
    "import pickle\n",
    "\n",
    "from torch.utils.tensorboard import SummaryWriter\n",
    "\n",
    "\n",
    "#import warnings\n",
    "#warnings.filterwarnings('ignore')\n",
    "\n",
    "device= torch.device('cuda:0' if torch.cuda.is_available() else 'cpu')\n",
    "print(\"Device being used : \" + str(device))"
   ]
  },
  {
   "cell_type": "markdown",
   "metadata": {},
   "source": [
    "Define paths and categories (labels)\n"
   ]
  },
  {
   "cell_type": "code",
   "execution_count": 2,
   "metadata": {},
   "outputs": [],
   "source": [
    "path_dataset = \"flowers\"\n",
    "path_split = \"tvt_flowers\"\n",
    "path_models = \"models\"\n",
    "path_data_plots = \"data_plots\"\n",
    "path_plots = \"plots\"\n",
    "path_models = \"models\"\n",
    "\n",
    "training_data_path = os.path.join(path_split,\"train\")\n",
    "validation_data_path = os.path.join(path_split,\"val\")\n",
    "testing_data_path =os.path.join(path_split,\"test\")\n",
    "\n",
    "categories=['daisy', 'dandelion', 'rose', 'sunflower', 'tulip']"
   ]
  },
  {
   "cell_type": "markdown",
   "metadata": {},
   "source": [
    "Import the training data produced by the \"data_preparation.ipynb\""
   ]
  },
  {
   "cell_type": "code",
   "execution_count": 3,
   "metadata": {},
   "outputs": [],
   "source": [
    "channel_means = torch.Tensor([0.4590, 0.4201, 0.3005])\n",
    "channel_std = torch.Tensor([0.2940, 0.2635, 0.2863])\n",
    "\n",
    "transformation = transforms.Compose([transforms.Resize((220, 220)),\n",
    "                                     transforms.ToTensor(),\n",
    "                                     transforms.Normalize((channel_means[0].item(), channel_means[1].item(), channel_means[2].item()), \n",
    "                                                                    (channel_std[0].item(), channel_std[1].item(), channel_std[2].item()))])\n",
    "                                                                                               \n",
    "\n",
    "training_ds = ImageFolder(training_data_path, transform = transformation)\n",
    "val_ds = ImageFolder(validation_data_path, transform = transformation)\n",
    "test_ds = ImageFolder(testing_data_path, transform = transformation)"
   ]
  },
  {
   "cell_type": "markdown",
   "metadata": {},
   "source": [
    "Setting up the data"
   ]
  },
  {
   "cell_type": "code",
   "execution_count": 4,
   "metadata": {},
   "outputs": [
    {
     "name": "stdout",
     "output_type": "stream",
     "text": [
      "Changing data to numpy\n",
      "Finished copying training data augmented\n",
      "Finished copying validation data\n"
     ]
    }
   ],
   "source": [
    "print(\"Changing data to numpy\")\n",
    "training_ds, discard = train_test_split(training_ds, test_size=1)\n",
    "training_ds.append(discard[0])\n",
    "print(\"Finished copying training data augmented\")\n",
    "val_ds, discard = train_test_split(val_ds, test_size=1)\n",
    "val_ds.append(discard[0])\n",
    "print(\"Finished copying validation data\")\n",
    "\n",
    "#Merging both training and validation since validation is not used for the Naive Bayes, therefore, we can have more training data\n",
    "training_ds = training_ds + val_ds"
   ]
  },
  {
   "cell_type": "code",
   "execution_count": 5,
   "metadata": {},
   "outputs": [],
   "source": [
    "bs = 32 #batch size\n",
    "nw = 4 #number of workers\n",
    "\n",
    "loaders = {\n",
    "    'train': DataLoader(training_ds, batch_size=bs, num_workers=nw, pin_memory=True),\n",
    "    'test': DataLoader(test_ds, batch_size=bs, num_workers=nw, pin_memory=True)\n",
    "}"
   ]
  },
  {
   "cell_type": "code",
   "execution_count": 7,
   "metadata": {},
   "outputs": [
    {
     "name": "stdout",
     "output_type": "stream",
     "text": [
      "Extracting features for the training data\n"
     ]
    },
    {
     "name": "stderr",
     "output_type": "stream",
     "text": [
      "100%|██████████| 108/108 [00:08<00:00, 13.12it/s]\n"
     ]
    },
    {
     "name": "stdout",
     "output_type": "stream",
     "text": [
      "Extracting features for the testing data\n"
     ]
    },
    {
     "name": "stderr",
     "output_type": "stream",
     "text": [
      "100%|██████████| 28/28 [00:03<00:00,  8.40it/s]\n"
     ]
    }
   ],
   "source": [
    "feature_extractor = torchvision.models.googlenet(pretrained=True)\n",
    "feature_extractor.fc = nn.Identity()\n",
    "\n",
    "feature_extractor = feature_extractor.to(device)\n",
    "x_train = []\n",
    "y_train = []\n",
    "x_test = []\n",
    "y_test = []\n",
    "\n",
    "print(\"Extracting features for the training data\")\n",
    "\n",
    "for inputs, labels in tqdm(loaders['train']):\n",
    "\n",
    "    inputs = inputs.to(device)\n",
    "\n",
    "    with torch.no_grad():\n",
    "        outputs = feature_extractor(inputs)\n",
    "\n",
    "    for tensor in outputs:\n",
    "        x_train.append(tensor)\n",
    "    for tensor in labels:\n",
    "        y_train.append(tensor)\n",
    "\n",
    "print(\"Extracting features for the testing data\")\n",
    "\n",
    "for inputs, labels in tqdm(loaders['test']):\n",
    "    \n",
    "    inputs = inputs.to(device)\n",
    "\n",
    "    with torch.no_grad():\n",
    "        outputs = feature_extractor(inputs)\n",
    "\n",
    "    for tensor in outputs:\n",
    "        x_test.append(tensor)\n",
    "    for tensor in labels:\n",
    "        y_test.append(tensor)\n"
   ]
  },
  {
   "cell_type": "markdown",
   "metadata": {},
   "source": [
    "Putting data from a list into a tensor, them converting to a numpy array"
   ]
  },
  {
   "cell_type": "code",
   "execution_count": 8,
   "metadata": {},
   "outputs": [],
   "source": [
    "x_train = torch.stack(x_train)\n",
    "y_train = torch.stack(y_train)\n",
    "x_test = torch.stack(x_test)\n",
    "y_test = torch.stack(y_test)"
   ]
  },
  {
   "cell_type": "code",
   "execution_count": 9,
   "metadata": {},
   "outputs": [],
   "source": [
    "x_train_np = x_train.cpu().numpy()\n",
    "y_train_np = y_train.cpu().numpy()\n",
    "x_test_np = x_test.cpu().numpy()\n",
    "y_test_np = y_test.cpu().numpy()"
   ]
  },
  {
   "cell_type": "markdown",
   "metadata": {},
   "source": [
    "Apply Naive Bayes"
   ]
  },
  {
   "cell_type": "code",
   "execution_count": 10,
   "metadata": {},
   "outputs": [],
   "source": [
    "# Training the Naive Bayes model on the Training set\n",
    "from sklearn.naive_bayes import GaussianNB\n",
    "classifier = GaussianNB()\n",
    "classifier.fit(x_train_np, y_train_np)\n",
    "\n",
    "# Predicting the Test set results\n",
    "y_pred = classifier.predict(x_test_np)\n",
    "ac = accuracy_score(y_test,y_pred)"
   ]
  },
  {
   "cell_type": "markdown",
   "metadata": {},
   "source": [
    "Check accuracy on test data"
   ]
  },
  {
   "cell_type": "code",
   "execution_count": 11,
   "metadata": {},
   "outputs": [
    {
     "name": "stdout",
     "output_type": "stream",
     "text": [
      "Accuracy : 31.11%\n"
     ]
    }
   ],
   "source": [
    "print(\"Accuracy : {:.2f}%\".format(ac*100))"
   ]
  },
  {
   "cell_type": "code",
   "execution_count": 12,
   "metadata": {},
   "outputs": [
    {
     "data": {
      "text/plain": [
       "<Figure size 432x288 with 0 Axes>"
      ]
     },
     "metadata": {},
     "output_type": "display_data"
    },
    {
     "data": {
      "image/png": "[encoded data removed]",
      "text/plain": [
       "<Figure size 864x576 with 1 Axes>"
      ]
     },
     "metadata": {
      "needs_background": "light"
     },
     "output_type": "display_data"
    }
   ],
   "source": [
    "from mlxtend.plotting import plot_confusion_matrix\n",
    "\n",
    "cm = confusion_matrix(y_test, y_pred)\n",
    "plt.figure()\n",
    "plot_confusion_matrix(cm,figsize=(12,8),cmap=plt.cm.Blues)\n",
    "plt.xticks(range(len(categories)), categories, fontsize=16)\n",
    "plt.yticks(range(len(categories)), categories, fontsize=16)\n",
    "plt.xlabel('Predicted Label',fontsize=18)\n",
    "plt.ylabel('True Label',fontsize=18)\n",
    "plt.show()"
   ]
  }
 ],
 "metadata": {
  "interpreter": {
   "hash": "37b255bb5dc0d995b91bd1b934b878e610a26475f52eafaf29fdb395fb105534"
  },
  "kernelspec": {
   "display_name": "Python 3.9.7 ('base')",
   "language": "python",
   "name": "python3"
  },
  "language_info": {
   "codemirror_mode": {
    "name": "ipython",
    "version": 3
   },
   "file_extension": ".py",
   "mimetype": "text/x-python",
   "name": "python",
   "nbconvert_exporter": "python",
   "pygments_lexer": "ipython3",
   "version": "3.9.7"
  },
  "orig_nbformat": 4
 },
 "nbformat": 4,
 "nbformat_minor": 2
}
